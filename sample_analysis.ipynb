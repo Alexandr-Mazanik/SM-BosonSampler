{
 "cells": [
  {
   "cell_type": "code",
   "execution_count": 1,
   "id": "6299abc8",
   "metadata": {},
   "outputs": [],
   "source": [
    "import numpy as np\n",
    "import matplotlib.pyplot as plt\n",
    "import scipy\n",
    "import itertools\n",
    "import os"
   ]
  },
  {
   "cell_type": "code",
   "execution_count": 2,
   "id": "a98eaca0",
   "metadata": {},
   "outputs": [],
   "source": [
    "def sample_to_list(data_type, sample_str):\n",
    "    match data_type:\n",
    "        case 'Rubtsov_samples':\n",
    "            return [int(i) for i in sample_str]\n",
    "        \n",
    "        case 'Rubtsov_check':\n",
    "            sample = [int(i) for i in sample_str]\n",
    "            if len(sample) < modes_num:\n",
    "                sample = [0 for _ in range(modes_num - len(sample))] + sample\n",
    "            return sample\n",
    "        \n",
    "        case 'Mazanik':\n",
    "            return [int(i) for i in sample_str.strip(\"][\").split(',')]\n",
    "        \n",
    "        case 'SF':\n",
    "            return [int(i) for i in sample_str.strip(\"][\").split(' ')]\n",
    "\n",
    "def calc_fock_basis(ph_num, modes_num):\n",
    "    basis = []\n",
    "    slots_num = ph_num + modes_num\n",
    "    all_comb_bars = list(itertools.combinations(range(1, slots_num), modes_num - 1))\n",
    "    for bars in all_comb_bars:\n",
    "        bars = list(bars)\n",
    "        bars.append(slots_num)\n",
    "        bars.insert(0, 0)\n",
    "        basis_vec = []\n",
    "        for i in range(modes_num):\n",
    "            basis_vec.append(bars[i+1] - bars[i] - 1)\n",
    "        basis.append(basis_vec)\n",
    "\n",
    "    return basis\n",
    "\n",
    "def data_base_prob(data, all_samples, base_type):\n",
    "    match base_type:\n",
    "        case 'Rubtsov_samples':\n",
    "            with open(os.path.join('samples', base_data_file_name), 'r') as f_data:\n",
    "                for f_sample in f_data:\n",
    "                    f_sample = f_sample.strip()\n",
    "                    sample, probability = f_sample.split('  ')\n",
    "                    sample = sample_to_list(base_type, sample)\n",
    "                \n",
    "                    data[all_samples.index(sample)]['base_prob'] = round(float(probability), 6)\n",
    "        \n",
    "        case 'Rubtsov_check':\n",
    "            with open(os.path.join('samples', base_data_file_name), 'r') as f_data:\n",
    "                for f_sample in f_data:\n",
    "                    f_sample = f_sample.strip()\n",
    "                    sample = f_sample.split('  ')[0] \n",
    "                    probability = f_sample.split('  ')[2] \n",
    "                    sample = sample_to_list(base_type, sample)\n",
    "                \n",
    "                    data[all_samples.index(sample)]['base_prob'] = round(float(probability), 6)\n",
    "        \n",
    "        case 'Mazanik':\n",
    "            with open(os.path.join('samples', base_data_file_name), 'r') as f_data:\n",
    "                for f_sample in f_data:\n",
    "                    f_sample = f_sample.strip()\n",
    "                    sample, probability = f_sample.split('\\t')\n",
    "                    sample = sample_to_list(base_type, sample)\n",
    "                \n",
    "                    data[all_samples.index(sample)]['base_prob'] = round(float(probability), 6)\n",
    "            \n",
    "        case 'SF':\n",
    "            with open(os.path.join('samples', base_data_file_name), 'r') as f_data:\n",
    "                for f_sample in f_data:\n",
    "                    f_sample = f_sample.strip()\n",
    "                    sample, probability = f_sample.split('\\t')\n",
    "                    sample = sample_to_list(base_type, sample)\n",
    "                \n",
    "                    data[all_samples.index(sample)]['base_prob'] = round(float(probability), 6)\n",
    "    \n",
    "    return data\n",
    "    \n",
    "def data_subject_prob(data, all_samples, subject_type):\n",
    "    match subject_type:\n",
    "        case 'Rubtsov_samples':\n",
    "            with open(os.path.join('samples', subject_data_file_name), 'r') as f_data:\n",
    "                for f_sample in f_data:\n",
    "                    f_sample = f_sample.strip()\n",
    "                    sample, probability = f_sample.split('  ')\n",
    "                    sample = sample_to_list(base_type, sample)\n",
    "                \n",
    "                    data[all_samples.index(sample)]['subject_prob'] = round(float(probability), 6)           \n",
    "        \n",
    "        case 'Rubtsov_check':\n",
    "            print(subject_type)\n",
    "        \n",
    "        case 'Mazanik':\n",
    "            occurrences = [0 for _ in range(len(all_samples))]\n",
    "            \n",
    "            with open(os.path.join('samples', subject_data_file_name), 'r') as f_data:\n",
    "                for f_sample in f_data:\n",
    "                    f_sample = f_sample.strip()\n",
    "                    sample, probability = f_sample.split('\\t')\n",
    "                    sample = sample_to_list(subject_type, sample)\n",
    "                    \n",
    "                    occurrences[all_samples.index(sample)] += 1\n",
    "            \n",
    "            batch_size = sum(occurrences)\n",
    "            subject_prob = [i / batch_size for i in occurrences]\n",
    "            \n",
    "            for i in range(len(all_samples)):\n",
    "                data[i]['subject_prob'] = round(subject_prob[i], 6)\n",
    "            \n",
    "            \n",
    "        case 'SF':\n",
    "            print(subject_type)\n",
    "    \n",
    "    return data\n",
    "    \n",
    "\n",
    "def make_data_list(base_type, subject_type):\n",
    "    all_samples = calc_fock_basis(photons_num, modes_num)\n",
    "    \n",
    "    data = [\n",
    "        dict([\n",
    "            ('sample', sample),\n",
    "            ('base_prob', 0),\n",
    "            ('subject_prob', 0)\n",
    "        ]) for sample in all_samples\n",
    "    ]\n",
    "    \n",
    "    \n",
    "    data = data_base_prob(data, all_samples, base_type)\n",
    "    data = data_subject_prob(data, all_samples, subject_type)\n",
    "    \n",
    "    return data"
   ]
  },
  {
   "cell_type": "markdown",
   "id": "17217252",
   "metadata": {},
   "source": [
    "## Reading Boson Sampling data"
   ]
  },
  {
   "cell_type": "markdown",
   "id": "f1788baf",
   "metadata": {},
   "source": [
    "### Setting data types to read\n",
    "Set the type of data to be read according to the Sampler being used. \n",
    "\n",
    "Options: 'Rubtsov_samples', 'Rubtsov_check', 'Mazanik' or 'SF'"
   ]
  },
  {
   "cell_type": "code",
   "execution_count": 17,
   "id": "c52795fb",
   "metadata": {},
   "outputs": [
    {
     "name": "stdout",
     "output_type": "stream",
     "text": [
      "comparison subject type: Mazanik\n",
      "comparison base type: SF\n",
      "photons number: 3\n",
      "modes number: 4\n",
      "different samples number: 20\n"
     ]
    }
   ],
   "source": [
    "subject_type = 'Mazanik'\n",
    "base_type = 'SF'\n",
    "\n",
    "subject_data_file_name = 'sample.txt'\n",
    "base_data_file_name = 'sf_sample.txt'\n",
    "\n",
    "photons_num = 3\n",
    "modes_num = 4\n",
    "\n",
    "data_types = ['Rubtsov_samples', 'Rubtsov_check', 'Mazanik', 'SF']\n",
    "\n",
    "if base_type in data_types and subject_type in data_types:\n",
    "    print(\"comparison subject type:\", subject_type)\n",
    "    print(\"comparison base type:\", base_type)\n",
    "    print(\"photons number:\", photons_num)\n",
    "    print(\"modes number:\", modes_num)\n",
    "    print(\"different samples number:\", int(scipy.special.binom(photons_num + modes_num - 1, photons_num)))\n",
    "else:\n",
    "    print(\"ERROR: this type of data does not exist\")"
   ]
  },
  {
   "cell_type": "code",
   "execution_count": 22,
   "id": "cbe22cae",
   "metadata": {},
   "outputs": [
    {
     "name": "stdout",
     "output_type": "stream",
     "text": [
      "[{'sample': [0, 0, 0, 3], 'base_prob': 0.0475, 'subject_prob': 0.05}, {'sample': [0, 0, 1, 2], 'base_prob': 0, 'subject_prob': 0.003333}, {'sample': [0, 0, 2, 1], 'base_prob': 0, 'subject_prob': 0.0}, {'sample': [0, 0, 3, 0], 'base_prob': 0, 'subject_prob': 0.0}, {'sample': [0, 1, 0, 2], 'base_prob': 0, 'subject_prob': 0.003333}, {'sample': [0, 1, 1, 1], 'base_prob': 0.0097, 'subject_prob': 0.003333}, {'sample': [0, 1, 2, 0], 'base_prob': 0, 'subject_prob': 0.0}, {'sample': [0, 2, 0, 1], 'base_prob': 0.0206, 'subject_prob': 0.016667}, {'sample': [0, 2, 1, 0], 'base_prob': 0, 'subject_prob': 0.006667}, {'sample': [0, 3, 0, 0], 'base_prob': 0.0389, 'subject_prob': 0.04}, {'sample': [1, 0, 0, 2], 'base_prob': 0.2826, 'subject_prob': 0.28}, {'sample': [1, 0, 1, 1], 'base_prob': 0.0697, 'subject_prob': 0.09}, {'sample': [1, 0, 2, 0], 'base_prob': 0.0201, 'subject_prob': 0.016667}, {'sample': [1, 1, 0, 1], 'base_prob': 0.0529, 'subject_prob': 0.05}, {'sample': [1, 1, 1, 0], 'base_prob': 0.1115, 'subject_prob': 0.076667}, {'sample': [1, 2, 0, 0], 'base_prob': 0.2663, 'subject_prob': 0.313333}, {'sample': [2, 0, 0, 1], 'base_prob': 0.0216, 'subject_prob': 0.01}, {'sample': [2, 0, 1, 0], 'base_prob': 0.0115, 'subject_prob': 0.006667}, {'sample': [2, 1, 0, 0], 'base_prob': 0.0339, 'subject_prob': 0.026667}, {'sample': [3, 0, 0, 0], 'base_prob': 0.0014, 'subject_prob': 0.006667}]\n"
     ]
    }
   ],
   "source": [
    "data = make_data_list(base_type, subject_type)\n",
    "print(data)"
   ]
  },
  {
   "cell_type": "markdown",
   "id": "439fcf17",
   "metadata": {},
   "source": [
    "### Exporting analysis data (to do)"
   ]
  },
  {
   "cell_type": "code",
   "execution_count": 78,
   "id": "5fba46fc",
   "metadata": {},
   "outputs": [],
   "source": [
    "export_file = 'sample_analysis.txt'"
   ]
  },
  {
   "cell_type": "code",
   "execution_count": 79,
   "id": "debaccb6",
   "metadata": {},
   "outputs": [],
   "source": [
    "with open('analysis/' + export_file, 'w') as f_sampler_analysis:\n",
    "    for note in data:\n",
    "        f_sampler_analysis.write(str(note['sample']) + '\\t' + str(note['ground_truth']) + '\\t' + str(note['experiment']) + '\\n')"
   ]
  },
  {
   "cell_type": "markdown",
   "id": "b9e9594c",
   "metadata": {},
   "source": [
    "### Show analysis data"
   ]
  },
  {
   "cell_type": "code",
   "execution_count": 13,
   "id": "4b56489d",
   "metadata": {},
   "outputs": [
    {
     "name": "stdout",
     "output_type": "stream",
     "text": [
      "[0, 0, 0, 3]\t0.1498\t0.003333\t\t\t0.02\n",
      "[0, 0, 1, 2]\t0.0492\t0.03\t\t\t0.61\n",
      "[0, 0, 2, 1]\t0.0363\t0.003333\t\t\t0.09\n",
      "[0, 0, 3, 0]\t0.0352\t0.033333\t\t\t0.95\n",
      "[0, 1, 0, 2]\t0.0184\t0.013333\t\t\t0.72\n",
      "[0, 1, 1, 1]\t0.0261\t0.026667\t\t\t1.02\n",
      "[0, 1, 2, 0]\t0.0462\t0.156667\t\t\t3.39\n",
      "[0, 2, 0, 1]\t0.001\t0.033333\t\t\t33.33\n",
      "[0, 2, 1, 0]\t0.0909\t0.073333\t\t\t0.81\n",
      "[0, 3, 0, 0]\t0.0457\t0.033333\t\t\t0.73\n",
      "[1, 0, 0, 2]\t0.0142\t0.003333\t\t\t0.23\n",
      "[1, 0, 1, 1]\t0.0064\t0.12\t\t\t18.75\n",
      "[1, 0, 2, 0]\t0.0356\t0.043333\t\t\t1.22\n",
      "[1, 1, 0, 1]\t0.156\t0.01\t\t\t0.06\n",
      "[1, 1, 1, 0]\t0.0065\t0.126667\t\t\t19.49\n",
      "[1, 2, 0, 0]\t0.0352\t0.053333\t\t\t1.52\n",
      "[2, 0, 0, 1]\t0.0725\t0.0\t\t\t0.0\n",
      "[2, 0, 1, 0]\t0.0826\t0.106667\t\t\t1.29\n",
      "[2, 1, 0, 0]\t0.0197\t0.06\t\t\t3.05\n",
      "[3, 0, 0, 0]\t0.0725\t0.07\t\t\t0.97\n"
     ]
    }
   ],
   "source": [
    "for note in data:\n",
    "        print(str(note['sample']) + '\\t' + \n",
    "              str(note['base_prob']) + '\\t' + \n",
    "              str(note['subject_prob']) + '\\t' + '\\t' + '\\t' +\n",
    "              str(round(note['subject_prob']/note['base_prob'], 2)))"
   ]
  },
  {
   "cell_type": "markdown",
   "id": "8418045d",
   "metadata": {},
   "source": [
    "### Sort samples"
   ]
  },
  {
   "cell_type": "code",
   "execution_count": 23,
   "id": "4e585490",
   "metadata": {},
   "outputs": [],
   "source": [
    "data_collisions = [[] for _ in range(photons_num)]\n",
    "\n",
    "for note in data:\n",
    "    collisions_num = max(note['sample'])\n",
    "    data_collisions[collisions_num - 1].append(note)"
   ]
  },
  {
   "cell_type": "markdown",
   "id": "fa1da3a0",
   "metadata": {},
   "source": [
    "### Graphical representation of data"
   ]
  },
  {
   "cell_type": "code",
   "execution_count": 24,
   "id": "912dff94",
   "metadata": {},
   "outputs": [
    {
     "data": {
      "image/png": "[encoded data removed]",
      "text/plain": [
       "<Figure size 640x480 with 1 Axes>"
      ]
     },
     "metadata": {},
     "output_type": "display_data"
    },
    {
     "data": {
      "image/png": "[encoded data removed]",
      "text/plain": [
       "<Figure size 640x480 with 1 Axes>"
      ]
     },
     "metadata": {},
     "output_type": "display_data"
    },
    {
     "data": {
      "image/png": "[encoded data removed]",
      "text/plain": [
       "<Figure size 640x480 with 1 Axes>"
      ]
     },
     "metadata": {},
     "output_type": "display_data"
    }
   ],
   "source": [
    "x_current = 0\n",
    "\n",
    "for i in range(photons_num):\n",
    "    if data_collisions[i] != []:\n",
    "        fig, ax = plt.subplots()\n",
    "        \n",
    "        x = np.arange(x_current, x_current + len(data_collisions[i]), 1)\n",
    "        x_current += len(data_collisions[i])\n",
    "\n",
    "        y1 = [note['subject_prob'] for note in data_collisions[i]]\n",
    "        y2 = [-note['base_prob'] for note in data_collisions[i]]\n",
    "\n",
    "\n",
    "        ax.stem(x, y1, 'b', markerfmt='', label=\"My_sampler\")\n",
    "        ax.stem(x, y2, 'r', markerfmt='', label=\"AN_sampler\")\n",
    "\n",
    "        ratio = 0.5\n",
    "        x_left, x_right = ax.get_xlim()\n",
    "        y_low, y_high = ax.get_ylim()\n",
    "        ax.set_aspect(abs((x_right-x_left)/(y_low-y_high))*ratio)\n",
    "        ax.legend()\n",
    "        \n",
    "        plt.title(\"Collisions: \" + str(i+1))\n",
    "        \n",
    "        #plt.show()\n",
    "\n",
    "        #plt.savefig('analysis/comparison/fig' + str(i+1) + '.pdf',  format = 'pdf')"
   ]
  },
  {
   "cell_type": "markdown",
   "id": "8f2e2c9e",
   "metadata": {},
   "source": [
    "### Fidelity and TVD"
   ]
  },
  {
   "cell_type": "code",
   "execution_count": 25,
   "id": "62b8ebb0",
   "metadata": {},
   "outputs": [
    {
     "name": "stdout",
     "output_type": "stream",
     "text": [
      "fidelity: 0.9805\n",
      "tvd: 0.0836\n"
     ]
    }
   ],
   "source": [
    "fidelity = 0\n",
    "tvd = 0\n",
    "\n",
    "for note in data:\n",
    "    fidelity += np.sqrt(note['base_prob'] * note['subject_prob'])\n",
    "    tvd += abs(note['base_prob'] - note['subject_prob']) / 2\n",
    "    \n",
    "print('fidelity:', round(fidelity, 4))\n",
    "print('tvd:', round(tvd, 4))"
   ]
  },
  {
   "cell_type": "code",
   "execution_count": null,
   "id": "de7bcaa6",
   "metadata": {},
   "outputs": [],
   "source": []
  }
 ],
 "metadata": {
  "kernelspec": {
   "display_name": "Python 3 (ipykernel)",
   "language": "python",
   "name": "python3"
  },
  "language_info": {
   "codemirror_mode": {
    "name": "ipython",
    "version": 3
   },
   "file_extension": ".py",
   "mimetype": "text/x-python",
   "name": "python",
   "nbconvert_exporter": "python",
   "pygments_lexer": "ipython3",
   "version": "3.10.10"
  }
 },
 "nbformat": 4,
 "nbformat_minor": 5
}
